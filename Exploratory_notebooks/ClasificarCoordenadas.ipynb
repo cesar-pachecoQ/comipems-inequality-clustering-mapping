{
 "cells": [
  {
   "cell_type": "markdown",
   "id": "2413a570",
   "metadata": {},
   "source": [
    "# Objetivo del notebook\n",
    "Se consideran los datos de 2020 a 2023, se cree que en el llenado del formularios, los alumnos ingresaron de forma erronea su CP, por lo que usando su dirección se busco la que posiblemente se su CP correcta, generando poligonos y tomando las cordenadas del cetro de cada CP. \n",
    "\n",
    "El reto afrontar ahora es contrastar las CP obtenidas con las CP dadas por los alumnos o aspirantes.\n",
    "\n",
    "## Formas a proceder.\n",
    "* Se verificara la relevancia que representan las CP faltantes junto con los CP obtenidos "
   ]
  },
  {
   "cell_type": "code",
   "execution_count": 1,
   "id": "cf46a15f",
   "metadata": {},
   "outputs": [],
   "source": [
    "import pandas as pd\n",
    "import pickle\n"
   ]
  },
  {
   "cell_type": "code",
   "execution_count": 2,
   "id": "b9565dbf",
   "metadata": {},
   "outputs": [],
   "source": [
    "DATA_DIR = \"../DataSets_Iniciales/coordenadas_obtenidas_google_maps/\""
   ]
  },
  {
   "cell_type": "code",
   "execution_count": 3,
   "id": "42cbc98e",
   "metadata": {},
   "outputs": [],
   "source": [
    "\n",
    "datasets = {\n",
    "    \"df_coordenadas_sustentantes_2020\": pd.read_csv(f\"{DATA_DIR}coordenadas_sustentantes_2020.csv\"),\n",
    "    \"df_coordenadas_sustentantes_2021\": pd.read_csv(f\"{DATA_DIR}coordenadas_sustentantes_2021.csv\"),\n",
    "    \"df_coordenadas_sustentantes_2022\": pd.read_csv(f\"{DATA_DIR}coordenadas_sustentantes_2022.csv\"),\n",
    "    \"df_coordenadas_sustentantes_2023\": pd.read_csv(f\"{DATA_DIR}coordenadas_sustentantes_2023.csv\")\n",
    "}\n"
   ]
  },
  {
   "cell_type": "code",
   "execution_count": 4,
   "id": "d6b43b73",
   "metadata": {},
   "outputs": [
    {
     "name": "stdout",
     "output_type": "stream",
     "text": [
      "Cantidad de valores distintos en df_coordenadas_sustentantes_2020: 2\n",
      "Cantidad de valores distintos en df_coordenadas_sustentantes_2021: 2\n",
      "Cantidad de valores distintos en df_coordenadas_sustentantes_2022: 1\n",
      "Cantidad de valores distintos en df_coordenadas_sustentantes_2023: 2\n"
     ]
    }
   ],
   "source": [
    "#Saber cuantos valores distintos hay SUS_ENT\n",
    "for key, df in datasets.items():\n",
    "    print(f\"Cantidad de valores distintos en {key}: {df.NOM_ENT.nunique()}\")\n",
    "# Guardar la cantidad de valores distintos en una lista\n"
   ]
  },
  {
   "cell_type": "code",
   "execution_count": 5,
   "id": "7330ba1c",
   "metadata": {},
   "outputs": [
    {
     "name": "stdout",
     "output_type": "stream",
     "text": [
      "Tipo de dato de postal_code_api: float64\n",
      "Tipo de dato de SUS_CP: int64\n"
     ]
    }
   ],
   "source": [
    "tipo_de_dato = datasets[\"df_coordenadas_sustentantes_2020\"].postal_code_api.dtype\n",
    "print(f\"Tipo de dato de postal_code_api: {tipo_de_dato}\")\n",
    "tipo_de_dato_sus_cp = datasets[\"df_coordenadas_sustentantes_2020\"].SUS_CP.dtype\n",
    "print(f\"Tipo de dato de SUS_CP: {tipo_de_dato_sus_cp}\")"
   ]
  },
  {
   "cell_type": "code",
   "execution_count": 6,
   "id": "06f6178f",
   "metadata": {},
   "outputs": [
    {
     "name": "stdout",
     "output_type": "stream",
     "text": [
      "df_coordenadas_sustentantes_2020:\n",
      "  Total de registros: 25709\n",
      "  Valores vacíos en postal_code_api: 4832\n",
      "  Porcentaje de valores vacíos: 18.79%\n",
      "  Porcentaje de valores no vacíos: 81.21%\n",
      "\n",
      "df_coordenadas_sustentantes_2021:\n",
      "  Total de registros: 24963\n",
      "  Valores vacíos en postal_code_api: 4664\n",
      "  Porcentaje de valores vacíos: 18.68%\n",
      "  Porcentaje de valores no vacíos: 81.32%\n",
      "\n",
      "df_coordenadas_sustentantes_2022:\n",
      "  Total de registros: 13796\n",
      "  Valores vacíos en postal_code_api: 2791\n",
      "  Porcentaje de valores vacíos: 20.23%\n",
      "  Porcentaje de valores no vacíos: 79.77%\n",
      "\n",
      "df_coordenadas_sustentantes_2023:\n",
      "  Total de registros: 18693\n",
      "  Valores vacíos en postal_code_api: 2876\n",
      "  Porcentaje de valores vacíos: 15.39%\n",
      "  Porcentaje de valores no vacíos: 84.61%\n",
      "\n"
     ]
    }
   ],
   "source": [
    "# Analizar valores nulos en postal_code_api para cada dataset\n",
    "for name, df in datasets.items():\n",
    "    # Total de filas\n",
    "    total_rows = len(df)\n",
    "    \n",
    "    # Contar valores nulos en la columna postal_code_api\n",
    "    null_count = df[\"postal_code_api\"].isna().sum()\n",
    "    \n",
    "    # Calcular el porcentaje\n",
    "    null_percentage = (null_count / total_rows) * 100\n",
    "    \n",
    "    print(f\"{name}:\")\n",
    "    print(f\"  Total de registros: {total_rows}\")\n",
    "    print(f\"  Valores vacíos en postal_code_api: {null_count}\")\n",
    "    print(f\"  Porcentaje de valores vacíos: {null_percentage:.2f}%\")\n",
    "    print(f\"  Porcentaje de valores no vacíos: {100 - null_percentage:.2f}%\")\n",
    "    print()"
   ]
  },
  {
   "cell_type": "code",
   "execution_count": 7,
   "id": "384708bd",
   "metadata": {},
   "outputs": [],
   "source": [
    "#Crear un nuevo diccionario con DataFrames en donde solo esten los datos nulos de postal_code_api\n",
    "datasets_nulos = {\n",
    "    name: df[df[\"postal_code_api\"].isna()] for name, df in datasets.items()\n",
    "}"
   ]
  },
  {
   "cell_type": "code",
   "execution_count": 8,
   "id": "a313a264",
   "metadata": {},
   "outputs": [
    {
     "name": "stdout",
     "output_type": "stream",
     "text": [
      "df_coordenadas_sustentantes_2020:\n",
      "  Total de registros con postal_code_api nulo: 4832\n",
      "df_coordenadas_sustentantes_2021:\n",
      "  Total de registros con postal_code_api nulo: 4664\n",
      "df_coordenadas_sustentantes_2022:\n",
      "  Total de registros con postal_code_api nulo: 2791\n",
      "df_coordenadas_sustentantes_2023:\n",
      "  Total de registros con postal_code_api nulo: 2876\n"
     ]
    }
   ],
   "source": [
    "for name, df in datasets_nulos.items():\n",
    "    total_rows = len(df)\n",
    "    print(f\"{name}:\")\n",
    "    print(f\"  Total de registros con postal_code_api nulo: {total_rows}\")"
   ]
  },
  {
   "cell_type": "code",
   "execution_count": 9,
   "id": "830c6b0a",
   "metadata": {},
   "outputs": [],
   "source": [
    "# Crear un nuevo diccionario con DataFrames sin valores faltantes en postal_code_api\n",
    "datasets_clean = {\n",
    "    name: df.dropna(subset=[\"postal_code_api\"])\n",
    "    for name, df in datasets.items()\n",
    "}"
   ]
  },
  {
   "cell_type": "code",
   "execution_count": 10,
   "id": "25d34bee",
   "metadata": {},
   "outputs": [
    {
     "name": "stderr",
     "output_type": "stream",
     "text": [
      "/tmp/ipykernel_136753/3430428774.py:2: SettingWithCopyWarning: \n",
      "A value is trying to be set on a copy of a slice from a DataFrame.\n",
      "Try using .loc[row_indexer,col_indexer] = value instead\n",
      "\n",
      "See the caveats in the documentation: https://pandas.pydata.org/pandas-docs/stable/user_guide/indexing.html#returning-a-view-versus-a-copy\n",
      "  df[\"postal_code_api\"] = df[\"postal_code_api\"].astype(int)\n",
      "/tmp/ipykernel_136753/3430428774.py:2: SettingWithCopyWarning: \n",
      "A value is trying to be set on a copy of a slice from a DataFrame.\n",
      "Try using .loc[row_indexer,col_indexer] = value instead\n",
      "\n",
      "See the caveats in the documentation: https://pandas.pydata.org/pandas-docs/stable/user_guide/indexing.html#returning-a-view-versus-a-copy\n",
      "  df[\"postal_code_api\"] = df[\"postal_code_api\"].astype(int)\n",
      "/tmp/ipykernel_136753/3430428774.py:2: SettingWithCopyWarning: \n",
      "A value is trying to be set on a copy of a slice from a DataFrame.\n",
      "Try using .loc[row_indexer,col_indexer] = value instead\n",
      "\n",
      "See the caveats in the documentation: https://pandas.pydata.org/pandas-docs/stable/user_guide/indexing.html#returning-a-view-versus-a-copy\n",
      "  df[\"postal_code_api\"] = df[\"postal_code_api\"].astype(int)\n",
      "/tmp/ipykernel_136753/3430428774.py:2: SettingWithCopyWarning: \n",
      "A value is trying to be set on a copy of a slice from a DataFrame.\n",
      "Try using .loc[row_indexer,col_indexer] = value instead\n",
      "\n",
      "See the caveats in the documentation: https://pandas.pydata.org/pandas-docs/stable/user_guide/indexing.html#returning-a-view-versus-a-copy\n",
      "  df[\"postal_code_api\"] = df[\"postal_code_api\"].astype(int)\n"
     ]
    }
   ],
   "source": [
    "for name, df in datasets_clean.items():\n",
    "  df[\"postal_code_api\"] = df[\"postal_code_api\"].astype(int)"
   ]
  },
  {
   "cell_type": "code",
   "execution_count": 11,
   "id": "2461a0fd",
   "metadata": {},
   "outputs": [
    {
     "name": "stdout",
     "output_type": "stream",
     "text": [
      "df_coordenadas_sustentantes_2020:\n",
      "  Filas originales: 25709\n",
      "  Filas eliminadas: 4832\n",
      "  Filas restantes: 20877\n",
      "  Porcentaje de datos conservados: 81.21%\n",
      "\n",
      "df_coordenadas_sustentantes_2021:\n",
      "  Filas originales: 24963\n",
      "  Filas eliminadas: 4664\n",
      "  Filas restantes: 20299\n",
      "  Porcentaje de datos conservados: 81.32%\n",
      "\n",
      "df_coordenadas_sustentantes_2022:\n",
      "  Filas originales: 13796\n",
      "  Filas eliminadas: 2791\n",
      "  Filas restantes: 11005\n",
      "  Porcentaje de datos conservados: 79.77%\n",
      "\n",
      "df_coordenadas_sustentantes_2023:\n",
      "  Filas originales: 18693\n",
      "  Filas eliminadas: 2876\n",
      "  Filas restantes: 15817\n",
      "  Porcentaje de datos conservados: 84.61%\n",
      "\n"
     ]
    }
   ],
   "source": [
    "\n",
    "# Mostrar información sobre el proceso de limpieza\n",
    "for name in datasets:\n",
    "    original_rows = len(datasets[name])\n",
    "    clean_rows = len(datasets_clean[name])\n",
    "    removed_rows = original_rows - clean_rows\n",
    "    \n",
    "    print(f\"{name}:\")\n",
    "    print(f\"  Filas originales: {original_rows}\")\n",
    "    print(f\"  Filas eliminadas: {removed_rows}\")\n",
    "    print(f\"  Filas restantes: {clean_rows}\")\n",
    "    print(f\"  Porcentaje de datos conservados: {(clean_rows/original_rows)*100:.2f}%\")\n",
    "    print()"
   ]
  },
  {
   "cell_type": "code",
   "execution_count": 12,
   "id": "fd9cba71",
   "metadata": {},
   "outputs": [
    {
     "name": "stdout",
     "output_type": "stream",
     "text": [
      "Tipo de dato de postal_code_api: int64\n",
      "Tipo de dato de SUS_CP: int64\n"
     ]
    }
   ],
   "source": [
    "tipo_de_dato = datasets_clean[\"df_coordenadas_sustentantes_2020\"].postal_code_api.dtype\n",
    "print(f\"Tipo de dato de postal_code_api: {tipo_de_dato}\")\n",
    "tipo_de_dato_sus_cp = datasets_clean[\"df_coordenadas_sustentantes_2020\"].SUS_CP.dtype\n",
    "print(f\"Tipo de dato de SUS_CP: {tipo_de_dato_sus_cp}\")\n"
   ]
  },
  {
   "cell_type": "code",
   "execution_count": 13,
   "id": "52bb0dcc",
   "metadata": {},
   "outputs": [
    {
     "name": "stdout",
     "output_type": "stream",
     "text": [
      "df_coordenadas_sustentantes_2020:\n",
      "  Total de registros: 20877\n",
      "  Códigos postales coincidentes: 16347 (78.30%)\n",
      "  Códigos postales diferentes: 4530 (21.70%)\n",
      "\n",
      "df_coordenadas_sustentantes_2021:\n",
      "  Total de registros: 20299\n",
      "  Códigos postales coincidentes: 16164 (79.63%)\n",
      "  Códigos postales diferentes: 4135 (20.37%)\n",
      "\n",
      "df_coordenadas_sustentantes_2022:\n",
      "  Total de registros: 11005\n",
      "  Códigos postales coincidentes: 8509 (77.32%)\n",
      "  Códigos postales diferentes: 2496 (22.68%)\n",
      "\n",
      "df_coordenadas_sustentantes_2023:\n",
      "  Total de registros: 15817\n",
      "  Códigos postales coincidentes: 12351 (78.09%)\n",
      "  Códigos postales diferentes: 3466 (21.91%)\n",
      "\n"
     ]
    }
   ],
   "source": [
    "for name, df in datasets_clean.items():\n",
    "    \n",
    "    # Total de registros\n",
    "    total = len(df)\n",
    "    \n",
    "    # Contar coincidencias y diferencias\n",
    "    coincidencias = (df[\"SUS_CP\"] == df[\"postal_code_api\"]).sum()\n",
    "    diferencias = total - coincidencias\n",
    "    \n",
    "    # Calcular porcentajes\n",
    "    porc_coincidencias = (coincidencias / total) * 100\n",
    "    porc_diferencias = (diferencias / total) * 100\n",
    "    \n",
    "    print(f\"{name}:\")\n",
    "    print(f\"  Total de registros: {total}\")\n",
    "    print(f\"  Códigos postales coincidentes: {coincidencias} ({porc_coincidencias:.2f}%)\")\n",
    "    print(f\"  Códigos postales diferentes: {diferencias} ({porc_diferencias:.2f}%)\")\n",
    "    print()"
   ]
  },
  {
   "cell_type": "code",
   "execution_count": 14,
   "id": "bd1b6a4b",
   "metadata": {},
   "outputs": [],
   "source": [
    "datasets_iguales = {\n",
    "    name: df[df[\"postal_code_api\"] == df[\"SUS_CP\"]] for name, df in datasets_clean.items()\n",
    "}"
   ]
  },
  {
   "cell_type": "code",
   "execution_count": 15,
   "id": "f80eb353",
   "metadata": {},
   "outputs": [],
   "source": [
    "datasets_diferentes = {\n",
    "    name: df[df[\"postal_code_api\"] != df[\"SUS_CP\"]] for name, df in datasets_clean.items()\n",
    "}"
   ]
  },
  {
   "cell_type": "code",
   "execution_count": 16,
   "id": "5094b376",
   "metadata": {},
   "outputs": [],
   "source": [
    "DATA_DIR_CLEAN = \"../DataSets_Iniciales/coordenadas_obtenidas_google_maps/Coordernadas_obtenidas_clasificadas/\""
   ]
  },
  {
   "cell_type": "code",
   "execution_count": 17,
   "id": "501b01f8",
   "metadata": {},
   "outputs": [
    {
     "name": "stdout",
     "output_type": "stream",
     "text": [
      "Datos nulos guardados en: ../DataSets_Iniciales/coordenadas_obtenidas_google_maps/Coordernadas_obtenidas_clasificadas//nulos/df_coordenadas_sustentantes_2020_nulos.csv\n",
      "Datos nulos guardados en: ../DataSets_Iniciales/coordenadas_obtenidas_google_maps/Coordernadas_obtenidas_clasificadas//nulos/df_coordenadas_sustentantes_2021_nulos.csv\n",
      "Datos nulos guardados en: ../DataSets_Iniciales/coordenadas_obtenidas_google_maps/Coordernadas_obtenidas_clasificadas//nulos/df_coordenadas_sustentantes_2022_nulos.csv\n",
      "Datos nulos guardados en: ../DataSets_Iniciales/coordenadas_obtenidas_google_maps/Coordernadas_obtenidas_clasificadas//nulos/df_coordenadas_sustentantes_2023_nulos.csv\n"
     ]
    }
   ],
   "source": [
    "# Guardar los DataFrames con valores nulos en un archivo CSV\n",
    "for name, df in datasets_nulos.items():\n",
    "    output_file = f\"{DATA_DIR_CLEAN}/nulos/{name}_nulos.csv\"\n",
    "    df.to_csv(output_file, index=False)\n",
    "    print(f\"Datos nulos guardados en: {output_file}\")"
   ]
  },
  {
   "cell_type": "code",
   "execution_count": 18,
   "id": "1860fa84",
   "metadata": {},
   "outputs": [
    {
     "name": "stdout",
     "output_type": "stream",
     "text": [
      "Datos diferentes guardados en: ../DataSets_Iniciales/coordenadas_obtenidas_google_maps/Coordernadas_obtenidas_clasificadas//diferentes/df_coordenadas_sustentantes_2020_diferentes.csv\n",
      "Datos diferentes guardados en: ../DataSets_Iniciales/coordenadas_obtenidas_google_maps/Coordernadas_obtenidas_clasificadas//diferentes/df_coordenadas_sustentantes_2021_diferentes.csv\n",
      "Datos diferentes guardados en: ../DataSets_Iniciales/coordenadas_obtenidas_google_maps/Coordernadas_obtenidas_clasificadas//diferentes/df_coordenadas_sustentantes_2022_diferentes.csv\n",
      "Datos diferentes guardados en: ../DataSets_Iniciales/coordenadas_obtenidas_google_maps/Coordernadas_obtenidas_clasificadas//diferentes/df_coordenadas_sustentantes_2023_diferentes.csv\n"
     ]
    }
   ],
   "source": [
    "# Guardar los DataFrames con valores diferentes en un archivo CSV\n",
    "for name, df in datasets_diferentes.items():\n",
    "    output_file = f\"{DATA_DIR_CLEAN}/diferentes/{name}_diferentes.csv\"\n",
    "    df.to_csv(output_file, index=False)\n",
    "    print(f\"Datos diferentes guardados en: {output_file}\")"
   ]
  },
  {
   "cell_type": "code",
   "execution_count": 19,
   "id": "1952e554",
   "metadata": {},
   "outputs": [
    {
     "name": "stdout",
     "output_type": "stream",
     "text": [
      "Datos iguales guardados en: ../DataSets_Iniciales/coordenadas_obtenidas_google_maps/Coordernadas_obtenidas_clasificadas//iguales/df_coordenadas_sustentantes_2020_iguales.csv\n",
      "Datos iguales guardados en: ../DataSets_Iniciales/coordenadas_obtenidas_google_maps/Coordernadas_obtenidas_clasificadas//iguales/df_coordenadas_sustentantes_2021_iguales.csv\n",
      "Datos iguales guardados en: ../DataSets_Iniciales/coordenadas_obtenidas_google_maps/Coordernadas_obtenidas_clasificadas//iguales/df_coordenadas_sustentantes_2022_iguales.csv\n",
      "Datos iguales guardados en: ../DataSets_Iniciales/coordenadas_obtenidas_google_maps/Coordernadas_obtenidas_clasificadas//iguales/df_coordenadas_sustentantes_2023_iguales.csv\n"
     ]
    }
   ],
   "source": [
    "# Guardar los DataFrames con valores iguales en un archivo CSV\n",
    "for name, df in datasets_iguales.items():\n",
    "    output_file = f\"{DATA_DIR_CLEAN}/iguales/{name}_iguales.csv\"\n",
    "    df.to_csv(output_file, index=False)\n",
    "    print(f\"Datos iguales guardados en: {output_file}\")"
   ]
  }
 ],
 "metadata": {
  "kernelspec": {
   "display_name": "IberoProject1",
   "language": "python",
   "name": "python3"
  },
  "language_info": {
   "codemirror_mode": {
    "name": "ipython",
    "version": 3
   },
   "file_extension": ".py",
   "mimetype": "text/x-python",
   "name": "python",
   "nbconvert_exporter": "python",
   "pygments_lexer": "ipython3",
   "version": "3.10.18"
  }
 },
 "nbformat": 4,
 "nbformat_minor": 5
}
